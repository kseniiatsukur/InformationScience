{
 "cells": [
  {
   "cell_type": "code",
   "execution_count": 1,
   "metadata": {
    "colab": {
     "base_uri": "https://localhost:8080/"
    },
    "id": "5OtDJQxYgGTz",
    "outputId": "3433013e-faa6-4e0b-e06d-cd8e24a26a48"
   },
   "outputs": [
    {
     "name": "stdout",
     "output_type": "stream",
     "text": [
      "Collecting unidecode\n",
      "  Downloading Unidecode-1.1.1-py2.py3-none-any.whl (238 kB)\n",
      "Installing collected packages: unidecode\n",
      "Successfully installed unidecode-1.1.1\n"
     ]
    }
   ],
   "source": [
    "!pip install unidecode\n",
    "\n",
    "from json import loads, dumps\n",
    "import urllib.request\n",
    "import re\n",
    "import unidecode"
   ]
  },
  {
   "cell_type": "code",
   "execution_count": 2,
   "metadata": {
    "colab": {
     "base_uri": "https://localhost:8080/"
    },
    "id": "5OtDJQxYgGTz",
    "outputId": "3433013e-faa6-4e0b-e06d-cd8e24a26a48"
   },
   "outputs": [],
   "source": [
    "def user_input():\n",
    "  orig_string = unidecode.unidecode(input())\n",
    "  normalized_string = orig_string.lower().strip()\n",
    "  resolved_spaces_string = re.sub(\" \",\"+\", normalized_string)\n",
    "  return resolved_spaces_string"
   ]
  },
  {
   "cell_type": "code",
   "execution_count": 6,
   "metadata": {
    "colab": {
     "base_uri": "https://localhost:8080/"
    },
    "id": "5OtDJQxYgGTz",
    "outputId": "3433013e-faa6-4e0b-e06d-cd8e24a26a48"
   },
   "outputs": [
    {
     "name": "stdout",
     "output_type": "stream",
     "text": [
      "érasme\n",
      "{'id': 'http://data.europeana.eu/agent/base/198', 'type': 'Agent', 'depiction': 'http://commons.wikimedia.org/wiki/Special:FilePath/Holbein-erasmus.jpg', 'prefLabel': {'ca': 'Erasme de Rotterdam', 'en': 'Desiderius Erasmus'}, 'hiddenLabel': {'ca': ['Erasme de Rotterdam', 'Rotterdam, Erasme de'], 'en': ['Desiderius Erasmus', 'Erasmus, Desiderius']}, 'dateOfBirth': '1466-10-27', 'dateOfDeath': '1536-07-12'}\n",
      "{'id': 'http://data.europeana.eu/agent/base/12159', 'type': 'Agent', 'depiction': 'http://commons.wikimedia.org/wiki/Special:FilePath/Erasmus%20Quellinus%20-%20Het%20Gulden%20Cabinet.png', 'prefLabel': {'en': 'Erasmus Quellinus II', 'fr': 'Érasme II Quellin'}, 'hiddenLabel': {'en': ['Erasmus Quellinus II', 'II, Erasmus Quellinus'], 'fr': ['Érasme II Quellin', 'Quellin, Érasme II']}, 'dateOfBirth': '1607', 'dateOfDeath': '1678'}\n",
      "{'id': 'http://data.europeana.eu/agent/base/16273', 'type': 'Agent', 'prefLabel': {'en': 'Erasmus Quellinus I', 'fr': \"Érasme Quellin l'Ancien\"}, 'hiddenLabel': {'en': ['Erasmus Quellinus I', 'I, Erasmus Quellinus'], 'fr': [\"Érasme Quellin l'Ancien\", \"l'Ancien, Érasme Quellin\"]}, 'dateOfDeath': '1640-01-22'}\n"
     ]
    }
   ],
   "source": [
    "  def api_call(user_input):\n",
    "    with urllib.request.urlopen(f\"https://www.europeana.eu/api/entities/suggest?wskey=apidemo&text={user_input}\") as url:\n",
    "        blowback = (url.read())\n",
    "        fil_1 = blowback.decode(\"utf-8\")\n",
    "        fil_2 = loads(fil_1)\n",
    "    for item in fil_2[\"items\"]:\n",
    "      print(item)\n",
    "\n",
    "def main():\n",
    "      y = user_input()\n",
    "      api_call(y)\n",
    "\n",
    "\n",
    "if __name__ == \"__main__\":\n",
    "      main()"
   ]
  }
 ],
 "metadata": {
  "colab": {
   "name": "JSON metadata harvester.ipynb",
   "provenance": []
  },
  "kernelspec": {
   "display_name": "Python 3",
   "language": "python",
   "name": "python3"
  },
  "language_info": {
   "codemirror_mode": {
    "name": "ipython",
    "version": 3
   },
   "file_extension": ".py",
   "mimetype": "text/x-python",
   "name": "python",
   "nbconvert_exporter": "python",
   "pygments_lexer": "ipython3",
   "version": "3.8.3"
  }
 },
 "nbformat": 4,
 "nbformat_minor": 1
}
